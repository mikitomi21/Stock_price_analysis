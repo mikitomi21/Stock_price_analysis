{
 "cells": [
  {
   "cell_type": "code",
   "execution_count": 4,
   "id": "8a906b7a",
   "metadata": {
    "scrolled": false
   },
   "outputs": [
    {
     "data": {
      "text/html": [
       "<div>\n",
       "<style scoped>\n",
       "    .dataframe tbody tr th:only-of-type {\n",
       "        vertical-align: middle;\n",
       "    }\n",
       "\n",
       "    .dataframe tbody tr th {\n",
       "        vertical-align: top;\n",
       "    }\n",
       "\n",
       "    .dataframe thead th {\n",
       "        text-align: right;\n",
       "    }\n",
       "</style>\n",
       "<table border=\"1\" class=\"dataframe\">\n",
       "  <thead>\n",
       "    <tr style=\"text-align: right;\">\n",
       "      <th></th>\n",
       "      <th>Data</th>\n",
       "      <th>Otwarcie</th>\n",
       "      <th>Najwyzszy</th>\n",
       "      <th>Najnizszy</th>\n",
       "      <th>Zamkniecie</th>\n",
       "      <th>Wolumen</th>\n",
       "      <th>Srednia</th>\n",
       "    </tr>\n",
       "  </thead>\n",
       "  <tbody>\n",
       "    <tr>\n",
       "      <th>0</th>\n",
       "      <td>2018-01-02</td>\n",
       "      <td>40.3697</td>\n",
       "      <td>40.8229</td>\n",
       "      <td>40.2231</td>\n",
       "      <td>40.7781</td>\n",
       "      <td>2.639922e+07</td>\n",
       "      <td>40.57390</td>\n",
       "    </tr>\n",
       "    <tr>\n",
       "      <th>1</th>\n",
       "      <td>2018-01-03</td>\n",
       "      <td>39.5794</td>\n",
       "      <td>40.2231</td>\n",
       "      <td>37.9942</td>\n",
       "      <td>39.3948</td>\n",
       "      <td>1.329136e+08</td>\n",
       "      <td>39.48710</td>\n",
       "    </tr>\n",
       "    <tr>\n",
       "      <th>2</th>\n",
       "      <td>2018-01-04</td>\n",
       "      <td>37.8808</td>\n",
       "      <td>38.8635</td>\n",
       "      <td>37.1589</td>\n",
       "      <td>38.6750</td>\n",
       "      <td>1.024465e+08</td>\n",
       "      <td>38.27790</td>\n",
       "    </tr>\n",
       "    <tr>\n",
       "      <th>3</th>\n",
       "      <td>2018-01-05</td>\n",
       "      <td>38.6750</td>\n",
       "      <td>39.3001</td>\n",
       "      <td>38.2129</td>\n",
       "      <td>38.9074</td>\n",
       "      <td>4.799999e+07</td>\n",
       "      <td>38.79120</td>\n",
       "    </tr>\n",
       "    <tr>\n",
       "      <th>4</th>\n",
       "      <td>2018-01-08</td>\n",
       "      <td>38.5352</td>\n",
       "      <td>39.0276</td>\n",
       "      <td>38.2627</td>\n",
       "      <td>38.9425</td>\n",
       "      <td>3.872708e+07</td>\n",
       "      <td>38.73885</td>\n",
       "    </tr>\n",
       "    <tr>\n",
       "      <th>5</th>\n",
       "      <td>2018-01-09</td>\n",
       "      <td>38.9074</td>\n",
       "      <td>39.0276</td>\n",
       "      <td>37.8544</td>\n",
       "      <td>37.9677</td>\n",
       "      <td>5.084294e+07</td>\n",
       "      <td>38.43755</td>\n",
       "    </tr>\n",
       "    <tr>\n",
       "      <th>6</th>\n",
       "      <td>2018-01-10</td>\n",
       "      <td>37.7167</td>\n",
       "      <td>37.9501</td>\n",
       "      <td>36.9391</td>\n",
       "      <td>36.9929</td>\n",
       "      <td>5.253039e+07</td>\n",
       "      <td>37.35480</td>\n",
       "    </tr>\n",
       "    <tr>\n",
       "      <th>7</th>\n",
       "      <td>2018-01-11</td>\n",
       "      <td>37.2527</td>\n",
       "      <td>37.9336</td>\n",
       "      <td>36.9480</td>\n",
       "      <td>37.7851</td>\n",
       "      <td>4.058237e+07</td>\n",
       "      <td>37.51890</td>\n",
       "    </tr>\n",
       "    <tr>\n",
       "      <th>8</th>\n",
       "      <td>2018-01-12</td>\n",
       "      <td>37.8192</td>\n",
       "      <td>37.9501</td>\n",
       "      <td>37.4364</td>\n",
       "      <td>37.6366</td>\n",
       "      <td>3.439174e+07</td>\n",
       "      <td>37.72790</td>\n",
       "    </tr>\n",
       "    <tr>\n",
       "      <th>9</th>\n",
       "      <td>2018-01-16</td>\n",
       "      <td>37.9062</td>\n",
       "      <td>38.1152</td>\n",
       "      <td>37.3289</td>\n",
       "      <td>37.5497</td>\n",
       "      <td>4.354925e+07</td>\n",
       "      <td>37.72795</td>\n",
       "    </tr>\n",
       "  </tbody>\n",
       "</table>\n",
       "</div>"
      ],
      "text/plain": [
       "         Data  Otwarcie  Najwyzszy  Najnizszy  Zamkniecie       Wolumen  \\\n",
       "0  2018-01-02   40.3697    40.8229    40.2231     40.7781  2.639922e+07   \n",
       "1  2018-01-03   39.5794    40.2231    37.9942     39.3948  1.329136e+08   \n",
       "2  2018-01-04   37.8808    38.8635    37.1589     38.6750  1.024465e+08   \n",
       "3  2018-01-05   38.6750    39.3001    38.2129     38.9074  4.799999e+07   \n",
       "4  2018-01-08   38.5352    39.0276    38.2627     38.9425  3.872708e+07   \n",
       "5  2018-01-09   38.9074    39.0276    37.8544     37.9677  5.084294e+07   \n",
       "6  2018-01-10   37.7167    37.9501    36.9391     36.9929  5.253039e+07   \n",
       "7  2018-01-11   37.2527    37.9336    36.9480     37.7851  4.058237e+07   \n",
       "8  2018-01-12   37.8192    37.9501    37.4364     37.6366  3.439174e+07   \n",
       "9  2018-01-16   37.9062    38.1152    37.3289     37.5497  4.354925e+07   \n",
       "\n",
       "    Srednia  \n",
       "0  40.57390  \n",
       "1  39.48710  \n",
       "2  38.27790  \n",
       "3  38.79120  \n",
       "4  38.73885  \n",
       "5  38.43755  \n",
       "6  37.35480  \n",
       "7  37.51890  \n",
       "8  37.72790  \n",
       "9  37.72795  "
      ]
     },
     "execution_count": 4,
     "metadata": {},
     "output_type": "execute_result"
    }
   ],
   "source": [
    "import pandas as pd\n",
    "import matplotlib.pyplot as plt\n",
    "\n",
    "intel_value = pd.read_csv(\"intc_us_d.csv\")\n",
    "\n",
    "intel_value = intel_value.iloc[:1000]\n",
    "\n",
    "intel_value['Srednia'] = (intel_value['Otwarcie'] + intel_value['Zamkniecie'])/2\n",
    "\n",
    "intel_value.iloc[:10]\n"
   ]
  },
  {
   "cell_type": "code",
   "execution_count": 5,
   "id": "4151b3c2",
   "metadata": {},
   "outputs": [
    {
     "data": {
      "image/png": "[encoded data removed]",
      "text/plain": [
       "<Figure size 640x480 with 1 Axes>"
      ]
     },
     "metadata": {},
     "output_type": "display_data"
    }
   ],
   "source": [
    "x = intel_value['Data']\n",
    "y = intel_value['Srednia']\n",
    "plt.plot(x,y)\n",
    "plt.xticks([])\n",
    "plt.show()"
   ]
  },
  {
   "cell_type": "code",
   "execution_count": 6,
   "id": "5842effe",
   "metadata": {},
   "outputs": [
    {
     "name": "stderr",
     "output_type": "stream",
     "text": [
      "C:\\Users\\kubas\\AppData\\Local\\Temp\\ipykernel_16712\\2317636425.py:1: FutureWarning: Dropping of nuisance columns in DataFrame reductions (with 'numeric_only=None') is deprecated; in a future version this will raise TypeError.  Select only valid columns before calling the reduction.\n",
      "  intel_value.mean(axis=0)\n"
     ]
    },
    {
     "data": {
      "text/plain": [
       "Otwarcie      4.839163e+01\n",
       "Najwyzszy     4.898245e+01\n",
       "Najnizszy     4.781939e+01\n",
       "Zamkniecie    4.839724e+01\n",
       "Wolumen       3.057406e+07\n",
       "Srednia       4.839443e+01\n",
       "dtype: float64"
      ]
     },
     "execution_count": 6,
     "metadata": {},
     "output_type": "execute_result"
    }
   ],
   "source": [
    "intel_value.mean(axis=0)"
   ]
  },
  {
   "cell_type": "code",
   "execution_count": 7,
   "id": "b1621ec6",
   "metadata": {},
   "outputs": [],
   "source": [
    "def alfa(n):\n",
    "    return 2/(n+1)"
   ]
  },
  {
   "cell_type": "code",
   "execution_count": 11,
   "id": "b9c58671",
   "metadata": {},
   "outputs": [],
   "source": [
    "def ema(values, size):\n",
    "    a = values[0]\n",
    "    b = 1\n",
    "    for i in range(1,size):\n",
    "        a += (((1-alfa(i))**i)*values[i])\n",
    "        b += alfa(i)**i\n",
    "    return a/b"
   ]
  },
  {
   "cell_type": "code",
   "execution_count": 13,
   "id": "4f700ef3",
   "metadata": {},
   "outputs": [
    {
     "name": "stdout",
     "output_type": "stream",
     "text": [
      "2529.7903193253\n"
     ]
    }
   ],
   "source": [
    "test = ema(intel_value['Srednia'], len(intel_value))\n",
    "print(test)"
   ]
  },
  {
   "cell_type": "code",
   "execution_count": null,
   "id": "d8468ec2",
   "metadata": {},
   "outputs": [],
   "source": []
  },
  {
   "cell_type": "code",
   "execution_count": null,
   "id": "3c7c51c3",
   "metadata": {},
   "outputs": [],
   "source": []
  }
 ],
 "metadata": {
  "kernelspec": {
   "display_name": "Python 3 (ipykernel)",
   "language": "python",
   "name": "python3"
  },
  "language_info": {
   "codemirror_mode": {
    "name": "ipython",
    "version": 3
   },
   "file_extension": ".py",
   "mimetype": "text/x-python",
   "name": "python",
   "nbconvert_exporter": "python",
   "pygments_lexer": "ipython3",
   "version": "3.9.13"
  }
 },
 "nbformat": 4,
 "nbformat_minor": 5
}
