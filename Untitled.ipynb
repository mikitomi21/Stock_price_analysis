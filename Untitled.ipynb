{
 "cells": [
  {
   "cell_type": "code",
   "execution_count": 51,
   "id": "28842d87",
   "metadata": {
    "scrolled": false
   },
   "outputs": [
    {
     "data": {
      "text/html": [
       "<div>\n",
       "<style scoped>\n",
       "    .dataframe tbody tr th:only-of-type {\n",
       "        vertical-align: middle;\n",
       "    }\n",
       "\n",
       "    .dataframe tbody tr th {\n",
       "        vertical-align: top;\n",
       "    }\n",
       "\n",
       "    .dataframe thead th {\n",
       "        text-align: right;\n",
       "    }\n",
       "</style>\n",
       "<table border=\"1\" class=\"dataframe\">\n",
       "  <thead>\n",
       "    <tr style=\"text-align: right;\">\n",
       "      <th></th>\n",
       "      <th>Data</th>\n",
       "      <th>Otwarcie</th>\n",
       "      <th>Najwyzszy</th>\n",
       "      <th>Najnizszy</th>\n",
       "      <th>Zamkniecie</th>\n",
       "      <th>Wolumen</th>\n",
       "      <th>Srednia</th>\n",
       "    </tr>\n",
       "  </thead>\n",
       "  <tbody>\n",
       "    <tr>\n",
       "      <th>0</th>\n",
       "      <td>2018-01-02</td>\n",
       "      <td>40.3697</td>\n",
       "      <td>40.8229</td>\n",
       "      <td>40.2231</td>\n",
       "      <td>40.7781</td>\n",
       "      <td>2.639922e+07</td>\n",
       "      <td>0</td>\n",
       "    </tr>\n",
       "    <tr>\n",
       "      <th>1</th>\n",
       "      <td>2018-01-03</td>\n",
       "      <td>39.5794</td>\n",
       "      <td>40.2231</td>\n",
       "      <td>37.9942</td>\n",
       "      <td>39.3948</td>\n",
       "      <td>1.329136e+08</td>\n",
       "      <td>0</td>\n",
       "    </tr>\n",
       "    <tr>\n",
       "      <th>2</th>\n",
       "      <td>2018-01-04</td>\n",
       "      <td>37.8808</td>\n",
       "      <td>38.8635</td>\n",
       "      <td>37.1589</td>\n",
       "      <td>38.6750</td>\n",
       "      <td>1.024465e+08</td>\n",
       "      <td>0</td>\n",
       "    </tr>\n",
       "    <tr>\n",
       "      <th>3</th>\n",
       "      <td>2018-01-05</td>\n",
       "      <td>38.6750</td>\n",
       "      <td>39.3001</td>\n",
       "      <td>38.2129</td>\n",
       "      <td>38.9074</td>\n",
       "      <td>4.799999e+07</td>\n",
       "      <td>0</td>\n",
       "    </tr>\n",
       "    <tr>\n",
       "      <th>4</th>\n",
       "      <td>2018-01-08</td>\n",
       "      <td>38.5352</td>\n",
       "      <td>39.0276</td>\n",
       "      <td>38.2627</td>\n",
       "      <td>38.9425</td>\n",
       "      <td>3.872708e+07</td>\n",
       "      <td>0</td>\n",
       "    </tr>\n",
       "    <tr>\n",
       "      <th>5</th>\n",
       "      <td>2018-01-09</td>\n",
       "      <td>38.9074</td>\n",
       "      <td>39.0276</td>\n",
       "      <td>37.8544</td>\n",
       "      <td>37.9677</td>\n",
       "      <td>5.084294e+07</td>\n",
       "      <td>0</td>\n",
       "    </tr>\n",
       "    <tr>\n",
       "      <th>6</th>\n",
       "      <td>2018-01-10</td>\n",
       "      <td>37.7167</td>\n",
       "      <td>37.9501</td>\n",
       "      <td>36.9391</td>\n",
       "      <td>36.9929</td>\n",
       "      <td>5.253039e+07</td>\n",
       "      <td>0</td>\n",
       "    </tr>\n",
       "    <tr>\n",
       "      <th>7</th>\n",
       "      <td>2018-01-11</td>\n",
       "      <td>37.2527</td>\n",
       "      <td>37.9336</td>\n",
       "      <td>36.9480</td>\n",
       "      <td>37.7851</td>\n",
       "      <td>4.058237e+07</td>\n",
       "      <td>0</td>\n",
       "    </tr>\n",
       "    <tr>\n",
       "      <th>8</th>\n",
       "      <td>2018-01-12</td>\n",
       "      <td>37.8192</td>\n",
       "      <td>37.9501</td>\n",
       "      <td>37.4364</td>\n",
       "      <td>37.6366</td>\n",
       "      <td>3.439174e+07</td>\n",
       "      <td>0</td>\n",
       "    </tr>\n",
       "    <tr>\n",
       "      <th>9</th>\n",
       "      <td>2018-01-16</td>\n",
       "      <td>37.9062</td>\n",
       "      <td>38.1152</td>\n",
       "      <td>37.3289</td>\n",
       "      <td>37.5497</td>\n",
       "      <td>4.354925e+07</td>\n",
       "      <td>0</td>\n",
       "    </tr>\n",
       "  </tbody>\n",
       "</table>\n",
       "</div>"
      ],
      "text/plain": [
       "         Data  Otwarcie  Najwyzszy  Najnizszy  Zamkniecie       Wolumen  \\\n",
       "0  2018-01-02   40.3697    40.8229    40.2231     40.7781  2.639922e+07   \n",
       "1  2018-01-03   39.5794    40.2231    37.9942     39.3948  1.329136e+08   \n",
       "2  2018-01-04   37.8808    38.8635    37.1589     38.6750  1.024465e+08   \n",
       "3  2018-01-05   38.6750    39.3001    38.2129     38.9074  4.799999e+07   \n",
       "4  2018-01-08   38.5352    39.0276    38.2627     38.9425  3.872708e+07   \n",
       "5  2018-01-09   38.9074    39.0276    37.8544     37.9677  5.084294e+07   \n",
       "6  2018-01-10   37.7167    37.9501    36.9391     36.9929  5.253039e+07   \n",
       "7  2018-01-11   37.2527    37.9336    36.9480     37.7851  4.058237e+07   \n",
       "8  2018-01-12   37.8192    37.9501    37.4364     37.6366  3.439174e+07   \n",
       "9  2018-01-16   37.9062    38.1152    37.3289     37.5497  4.354925e+07   \n",
       "\n",
       "   Srednia  \n",
       "0        0  \n",
       "1        0  \n",
       "2        0  \n",
       "3        0  \n",
       "4        0  \n",
       "5        0  \n",
       "6        0  \n",
       "7        0  \n",
       "8        0  \n",
       "9        0  "
      ]
     },
     "execution_count": 51,
     "metadata": {},
     "output_type": "execute_result"
    }
   ],
   "source": [
    "import pandas as pd\n",
    "import matplotlib.pyplot as plt\n",
    "\n",
    "intel_value = pd.read_csv(\"intc_us_d.csv\")\n",
    "\n",
    "intel_value = intel_value.iloc[:1000]\n",
    "\n",
    "intel_value['Srednia'] = intel_value['Otwarcie'] + intel_value\n",
    "\n",
    "intel_value.iloc[:10]\n"
   ]
  },
  {
   "cell_type": "code",
   "execution_count": 45,
   "id": "bce718a0",
   "metadata": {},
   "outputs": [
    {
     "data": {
      "image/png": "[encoded data removed]",
      "text/plain": [
       "<Figure size 640x480 with 1 Axes>"
      ]
     },
     "metadata": {},
     "output_type": "display_data"
    }
   ],
   "source": [
    "x = euro['Data']\n",
    "y = euro['Otwarcie']\n",
    "plt.plot(x,y)\n",
    "plt.xticks([])\n",
    "plt.show()"
   ]
  },
  {
   "cell_type": "code",
   "execution_count": 50,
   "id": "873c65ad",
   "metadata": {},
   "outputs": [
    {
     "name": "stderr",
     "output_type": "stream",
     "text": [
      "C:\\Users\\kubas\\AppData\\Local\\Temp\\ipykernel_18604\\2317636425.py:1: FutureWarning: Dropping of nuisance columns in DataFrame reductions (with 'numeric_only=None') is deprecated; in a future version this will raise TypeError.  Select only valid columns before calling the reduction.\n",
      "  intel_value.mean(axis=0)\n"
     ]
    },
    {
     "data": {
      "text/plain": [
       "Otwarcie      4.839163e+01\n",
       "Najwyzszy     4.898245e+01\n",
       "Najnizszy     4.781939e+01\n",
       "Zamkniecie    4.839724e+01\n",
       "Wolumen       3.057406e+07\n",
       "dtype: float64"
      ]
     },
     "execution_count": 50,
     "metadata": {},
     "output_type": "execute_result"
    }
   ],
   "source": [
    "intel_value.mean(axis=0)"
   ]
  }
 ],
 "metadata": {
  "kernelspec": {
   "display_name": "Python 3 (ipykernel)",
   "language": "python",
   "name": "python3"
  },
  "language_info": {
   "codemirror_mode": {
    "name": "ipython",
    "version": 3
   },
   "file_extension": ".py",
   "mimetype": "text/x-python",
   "name": "python",
   "nbconvert_exporter": "python",
   "pygments_lexer": "ipython3",
   "version": "3.9.13"
  }
 },
 "nbformat": 4,
 "nbformat_minor": 5
}
