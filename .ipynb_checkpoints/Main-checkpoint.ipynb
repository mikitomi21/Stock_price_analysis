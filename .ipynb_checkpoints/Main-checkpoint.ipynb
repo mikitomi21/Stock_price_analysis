{
 "cells": [
  {
   "cell_type": "code",
   "execution_count": 108,
   "id": "d586427c",
   "metadata": {},
   "outputs": [],
   "source": [
    "import numpy as np\n",
    "import pandas as pd\n",
    "import matplotlib.pyplot as plt\n",
    "# from ecofunction import macd, ema, signal"
   ]
  },
  {
   "cell_type": "code",
   "execution_count": 109,
   "id": "3af04038",
   "metadata": {},
   "outputs": [],
   "source": [
    "def ema(values, size):\n",
    "    if size < 1:\n",
    "        return 0\n",
    "    a = values.iloc[0]\n",
    "    b = 1\n",
    "    alfa = 2/(size+1)\n",
    "    for i in range(1,size+1):\n",
    "        a += ((1-pow(alfa,i))*values.iloc[i])\n",
    "        b += pow(alfa,i)\n",
    "    return a/b\n",
    "\n",
    "\n",
    "def signal(values):\n",
    "    signal = 0\n",
    "    for i in range(9):\n",
    "        ema12 = ema(values['Srednia'], 12)\n",
    "        ema26 = ema(values['Srednia'], 26)\n",
    "        signal += ema12-ema26\n",
    "        values = values.iloc[1:]\n",
    "    return signal/9\n",
    "\n",
    "\n",
    "def macd(values):\n",
    "    #print(values)\n",
    "    ema12 = ema(values['Srednia'], 12)\n",
    "    ema26 = ema(values['Srednia'], 26)\n",
    "    \n",
    "    return ema12-ema26"
   ]
  },
  {
   "cell_type": "markdown",
   "id": "621422c6",
   "metadata": {},
   "source": [
    "## Importing data"
   ]
  },
  {
   "cell_type": "code",
   "execution_count": 93,
   "id": "8a906b7a",
   "metadata": {
    "scrolled": false
   },
   "outputs": [
    {
     "data": {
      "text/html": [
       "<div>\n",
       "<style scoped>\n",
       "    .dataframe tbody tr th:only-of-type {\n",
       "        vertical-align: middle;\n",
       "    }\n",
       "\n",
       "    .dataframe tbody tr th {\n",
       "        vertical-align: top;\n",
       "    }\n",
       "\n",
       "    .dataframe thead th {\n",
       "        text-align: right;\n",
       "    }\n",
       "</style>\n",
       "<table border=\"1\" class=\"dataframe\">\n",
       "  <thead>\n",
       "    <tr style=\"text-align: right;\">\n",
       "      <th></th>\n",
       "      <th>Data</th>\n",
       "      <th>Otwarcie</th>\n",
       "      <th>Najwyzszy</th>\n",
       "      <th>Najnizszy</th>\n",
       "      <th>Zamkniecie</th>\n",
       "      <th>Wolumen</th>\n",
       "      <th>Srednia</th>\n",
       "    </tr>\n",
       "  </thead>\n",
       "  <tbody>\n",
       "    <tr>\n",
       "      <th>999</th>\n",
       "      <td>2021-12-20</td>\n",
       "      <td>48.0054</td>\n",
       "      <td>48.2165</td>\n",
       "      <td>47.0912</td>\n",
       "      <td>47.7066</td>\n",
       "      <td>3.133655e+07</td>\n",
       "      <td>47.85600</td>\n",
       "    </tr>\n",
       "    <tr>\n",
       "      <th>998</th>\n",
       "      <td>2021-12-17</td>\n",
       "      <td>48.6589</td>\n",
       "      <td>49.0721</td>\n",
       "      <td>48.1011</td>\n",
       "      <td>48.6872</td>\n",
       "      <td>5.218249e+07</td>\n",
       "      <td>48.67305</td>\n",
       "    </tr>\n",
       "    <tr>\n",
       "      <th>997</th>\n",
       "      <td>2021-12-16</td>\n",
       "      <td>48.8026</td>\n",
       "      <td>49.4375</td>\n",
       "      <td>48.6443</td>\n",
       "      <td>48.8895</td>\n",
       "      <td>3.444728e+07</td>\n",
       "      <td>48.84605</td>\n",
       "    </tr>\n",
       "    <tr>\n",
       "      <th>996</th>\n",
       "      <td>2021-12-15</td>\n",
       "      <td>47.9664</td>\n",
       "      <td>48.8416</td>\n",
       "      <td>47.4418</td>\n",
       "      <td>48.7361</td>\n",
       "      <td>3.388384e+07</td>\n",
       "      <td>48.35125</td>\n",
       "    </tr>\n",
       "    <tr>\n",
       "      <th>995</th>\n",
       "      <td>2021-12-14</td>\n",
       "      <td>47.9175</td>\n",
       "      <td>48.3513</td>\n",
       "      <td>47.4369</td>\n",
       "      <td>47.8023</td>\n",
       "      <td>3.547463e+07</td>\n",
       "      <td>47.85990</td>\n",
       "    </tr>\n",
       "    <tr>\n",
       "      <th>994</th>\n",
       "      <td>2021-12-13</td>\n",
       "      <td>48.9090</td>\n",
       "      <td>49.0721</td>\n",
       "      <td>48.0425</td>\n",
       "      <td>48.0914</td>\n",
       "      <td>3.714490e+07</td>\n",
       "      <td>48.50020</td>\n",
       "    </tr>\n",
       "    <tr>\n",
       "      <th>993</th>\n",
       "      <td>2021-12-10</td>\n",
       "      <td>48.8993</td>\n",
       "      <td>49.1200</td>\n",
       "      <td>48.1392</td>\n",
       "      <td>48.6589</td>\n",
       "      <td>2.472761e+07</td>\n",
       "      <td>48.77910</td>\n",
       "    </tr>\n",
       "    <tr>\n",
       "      <th>992</th>\n",
       "      <td>2021-12-09</td>\n",
       "      <td>49.3417</td>\n",
       "      <td>49.6152</td>\n",
       "      <td>48.5046</td>\n",
       "      <td>48.5524</td>\n",
       "      <td>3.295219e+07</td>\n",
       "      <td>48.94705</td>\n",
       "    </tr>\n",
       "    <tr>\n",
       "      <th>991</th>\n",
       "      <td>2021-12-08</td>\n",
       "      <td>50.5637</td>\n",
       "      <td>50.8607</td>\n",
       "      <td>49.4218</td>\n",
       "      <td>49.7744</td>\n",
       "      <td>3.861767e+07</td>\n",
       "      <td>50.16905</td>\n",
       "    </tr>\n",
       "    <tr>\n",
       "      <th>990</th>\n",
       "      <td>2021-12-07</td>\n",
       "      <td>52.5740</td>\n",
       "      <td>52.9002</td>\n",
       "      <td>50.2170</td>\n",
       "      <td>50.5637</td>\n",
       "      <td>9.537231e+07</td>\n",
       "      <td>51.56885</td>\n",
       "    </tr>\n",
       "  </tbody>\n",
       "</table>\n",
       "</div>"
      ],
      "text/plain": [
       "           Data  Otwarcie  Najwyzszy  Najnizszy  Zamkniecie       Wolumen  \\\n",
       "999  2021-12-20   48.0054    48.2165    47.0912     47.7066  3.133655e+07   \n",
       "998  2021-12-17   48.6589    49.0721    48.1011     48.6872  5.218249e+07   \n",
       "997  2021-12-16   48.8026    49.4375    48.6443     48.8895  3.444728e+07   \n",
       "996  2021-12-15   47.9664    48.8416    47.4418     48.7361  3.388384e+07   \n",
       "995  2021-12-14   47.9175    48.3513    47.4369     47.8023  3.547463e+07   \n",
       "994  2021-12-13   48.9090    49.0721    48.0425     48.0914  3.714490e+07   \n",
       "993  2021-12-10   48.8993    49.1200    48.1392     48.6589  2.472761e+07   \n",
       "992  2021-12-09   49.3417    49.6152    48.5046     48.5524  3.295219e+07   \n",
       "991  2021-12-08   50.5637    50.8607    49.4218     49.7744  3.861767e+07   \n",
       "990  2021-12-07   52.5740    52.9002    50.2170     50.5637  9.537231e+07   \n",
       "\n",
       "      Srednia  \n",
       "999  47.85600  \n",
       "998  48.67305  \n",
       "997  48.84605  \n",
       "996  48.35125  \n",
       "995  47.85990  \n",
       "994  48.50020  \n",
       "993  48.77910  \n",
       "992  48.94705  \n",
       "991  50.16905  \n",
       "990  51.56885  "
      ]
     },
     "execution_count": 93,
     "metadata": {},
     "output_type": "execute_result"
    }
   ],
   "source": [
    "intel_value = pd.read_csv(\"intc_us_d.csv\")\n",
    "\n",
    "intel_value = intel_value.iloc[:1000]\n",
    "intel_value = intel_value[::-1]\n",
    "intel_value['Srednia'] = (intel_value['Otwarcie'] + intel_value['Zamkniecie'])/2\n",
    "\n",
    "intel_value.iloc[:10]"
   ]
  },
  {
   "cell_type": "code",
   "execution_count": 94,
   "id": "a0445f07",
   "metadata": {},
   "outputs": [],
   "source": [
    "SIZE_OF_CHART=100"
   ]
  },
  {
   "cell_type": "code",
   "execution_count": 95,
   "id": "4151b3c2",
   "metadata": {},
   "outputs": [
    {
     "data": {
      "image/png": "[encoded data removed]",
      "text/plain": [
       "<Figure size 640x480 with 1 Axes>"
      ]
     },
     "metadata": {},
     "output_type": "display_data"
    }
   ],
   "source": [
    "values = intel_value.iloc[:SIZE_OF_CHART]\n",
    "x = values['Data']\n",
    "y = values['Srednia']\n",
    "plt.plot(x,y)\n",
    "plt.xticks([])\n",
    "plt.show()"
   ]
  },
  {
   "cell_type": "code",
   "execution_count": 96,
   "id": "5842effe",
   "metadata": {},
   "outputs": [
    {
     "name": "stderr",
     "output_type": "stream",
     "text": [
      "C:\\Users\\kubas\\AppData\\Local\\Temp\\ipykernel_5080\\2317636425.py:1: FutureWarning: Dropping of nuisance columns in DataFrame reductions (with 'numeric_only=None') is deprecated; in a future version this will raise TypeError.  Select only valid columns before calling the reduction.\n",
      "  intel_value.mean(axis=0)\n"
     ]
    },
    {
     "data": {
      "text/plain": [
       "Otwarcie      4.839163e+01\n",
       "Najwyzszy     4.898245e+01\n",
       "Najnizszy     4.781939e+01\n",
       "Zamkniecie    4.839724e+01\n",
       "Wolumen       3.057406e+07\n",
       "Srednia       4.839443e+01\n",
       "dtype: float64"
      ]
     },
     "execution_count": 96,
     "metadata": {},
     "output_type": "execute_result"
    }
   ],
   "source": [
    "intel_value.mean(axis=0)"
   ]
  },
  {
   "cell_type": "markdown",
   "id": "e84a4d89",
   "metadata": {},
   "source": [
    "## Testing"
   ]
  },
  {
   "cell_type": "code",
   "execution_count": 113,
   "id": "348e6be1",
   "metadata": {},
   "outputs": [
    {
     "name": "stdout",
     "output_type": "stream",
     "text": [
      "-681.9645627506055\n"
     ]
    }
   ],
   "source": [
    "print(macd(intel_value[4:]))"
   ]
  },
  {
   "cell_type": "code",
   "execution_count": 98,
   "id": "966b92ea",
   "metadata": {},
   "outputs": [
    {
     "name": "stdout",
     "output_type": "stream",
     "text": [
      "-675.7015412196611\n"
     ]
    }
   ],
   "source": [
    "ema12 = ema(intel_value['Srednia'], 12)\n",
    "ema26 = ema(intel_value['Srednia'], 26)\n",
    "\n",
    "macd = ema12-ema26\n",
    "print(macd)"
   ]
  },
  {
   "cell_type": "code",
   "execution_count": 99,
   "id": "8060bdd0",
   "metadata": {},
   "outputs": [
    {
     "data": {
      "text/html": [
       "<div>\n",
       "<style scoped>\n",
       "    .dataframe tbody tr th:only-of-type {\n",
       "        vertical-align: middle;\n",
       "    }\n",
       "\n",
       "    .dataframe tbody tr th {\n",
       "        vertical-align: top;\n",
       "    }\n",
       "\n",
       "    .dataframe thead th {\n",
       "        text-align: right;\n",
       "    }\n",
       "</style>\n",
       "<table border=\"1\" class=\"dataframe\">\n",
       "  <thead>\n",
       "    <tr style=\"text-align: right;\">\n",
       "      <th></th>\n",
       "      <th>Data</th>\n",
       "      <th>Otwarcie</th>\n",
       "      <th>Najwyzszy</th>\n",
       "      <th>Najnizszy</th>\n",
       "      <th>Zamkniecie</th>\n",
       "      <th>Wolumen</th>\n",
       "      <th>Srednia</th>\n",
       "    </tr>\n",
       "  </thead>\n",
       "  <tbody>\n",
       "    <tr>\n",
       "      <th>999</th>\n",
       "      <td>2021-12-20</td>\n",
       "      <td>48.0054</td>\n",
       "      <td>48.2165</td>\n",
       "      <td>47.0912</td>\n",
       "      <td>47.7066</td>\n",
       "      <td>3.133655e+07</td>\n",
       "      <td>47.85600</td>\n",
       "    </tr>\n",
       "    <tr>\n",
       "      <th>998</th>\n",
       "      <td>2021-12-17</td>\n",
       "      <td>48.6589</td>\n",
       "      <td>49.0721</td>\n",
       "      <td>48.1011</td>\n",
       "      <td>48.6872</td>\n",
       "      <td>5.218249e+07</td>\n",
       "      <td>48.67305</td>\n",
       "    </tr>\n",
       "    <tr>\n",
       "      <th>997</th>\n",
       "      <td>2021-12-16</td>\n",
       "      <td>48.8026</td>\n",
       "      <td>49.4375</td>\n",
       "      <td>48.6443</td>\n",
       "      <td>48.8895</td>\n",
       "      <td>3.444728e+07</td>\n",
       "      <td>48.84605</td>\n",
       "    </tr>\n",
       "    <tr>\n",
       "      <th>996</th>\n",
       "      <td>2021-12-15</td>\n",
       "      <td>47.9664</td>\n",
       "      <td>48.8416</td>\n",
       "      <td>47.4418</td>\n",
       "      <td>48.7361</td>\n",
       "      <td>3.388384e+07</td>\n",
       "      <td>48.35125</td>\n",
       "    </tr>\n",
       "    <tr>\n",
       "      <th>995</th>\n",
       "      <td>2021-12-14</td>\n",
       "      <td>47.9175</td>\n",
       "      <td>48.3513</td>\n",
       "      <td>47.4369</td>\n",
       "      <td>47.8023</td>\n",
       "      <td>3.547463e+07</td>\n",
       "      <td>47.85990</td>\n",
       "    </tr>\n",
       "    <tr>\n",
       "      <th>994</th>\n",
       "      <td>2021-12-13</td>\n",
       "      <td>48.9090</td>\n",
       "      <td>49.0721</td>\n",
       "      <td>48.0425</td>\n",
       "      <td>48.0914</td>\n",
       "      <td>3.714490e+07</td>\n",
       "      <td>48.50020</td>\n",
       "    </tr>\n",
       "    <tr>\n",
       "      <th>993</th>\n",
       "      <td>2021-12-10</td>\n",
       "      <td>48.8993</td>\n",
       "      <td>49.1200</td>\n",
       "      <td>48.1392</td>\n",
       "      <td>48.6589</td>\n",
       "      <td>2.472761e+07</td>\n",
       "      <td>48.77910</td>\n",
       "    </tr>\n",
       "    <tr>\n",
       "      <th>992</th>\n",
       "      <td>2021-12-09</td>\n",
       "      <td>49.3417</td>\n",
       "      <td>49.6152</td>\n",
       "      <td>48.5046</td>\n",
       "      <td>48.5524</td>\n",
       "      <td>3.295219e+07</td>\n",
       "      <td>48.94705</td>\n",
       "    </tr>\n",
       "    <tr>\n",
       "      <th>991</th>\n",
       "      <td>2021-12-08</td>\n",
       "      <td>50.5637</td>\n",
       "      <td>50.8607</td>\n",
       "      <td>49.4218</td>\n",
       "      <td>49.7744</td>\n",
       "      <td>3.861767e+07</td>\n",
       "      <td>50.16905</td>\n",
       "    </tr>\n",
       "    <tr>\n",
       "      <th>990</th>\n",
       "      <td>2021-12-07</td>\n",
       "      <td>52.5740</td>\n",
       "      <td>52.9002</td>\n",
       "      <td>50.2170</td>\n",
       "      <td>50.5637</td>\n",
       "      <td>9.537231e+07</td>\n",
       "      <td>51.56885</td>\n",
       "    </tr>\n",
       "  </tbody>\n",
       "</table>\n",
       "</div>"
      ],
      "text/plain": [
       "           Data  Otwarcie  Najwyzszy  Najnizszy  Zamkniecie       Wolumen  \\\n",
       "999  2021-12-20   48.0054    48.2165    47.0912     47.7066  3.133655e+07   \n",
       "998  2021-12-17   48.6589    49.0721    48.1011     48.6872  5.218249e+07   \n",
       "997  2021-12-16   48.8026    49.4375    48.6443     48.8895  3.444728e+07   \n",
       "996  2021-12-15   47.9664    48.8416    47.4418     48.7361  3.388384e+07   \n",
       "995  2021-12-14   47.9175    48.3513    47.4369     47.8023  3.547463e+07   \n",
       "994  2021-12-13   48.9090    49.0721    48.0425     48.0914  3.714490e+07   \n",
       "993  2021-12-10   48.8993    49.1200    48.1392     48.6589  2.472761e+07   \n",
       "992  2021-12-09   49.3417    49.6152    48.5046     48.5524  3.295219e+07   \n",
       "991  2021-12-08   50.5637    50.8607    49.4218     49.7744  3.861767e+07   \n",
       "990  2021-12-07   52.5740    52.9002    50.2170     50.5637  9.537231e+07   \n",
       "\n",
       "      Srednia  \n",
       "999  47.85600  \n",
       "998  48.67305  \n",
       "997  48.84605  \n",
       "996  48.35125  \n",
       "995  47.85990  \n",
       "994  48.50020  \n",
       "993  48.77910  \n",
       "992  48.94705  \n",
       "991  50.16905  \n",
       "990  51.56885  "
      ]
     },
     "execution_count": 99,
     "metadata": {},
     "output_type": "execute_result"
    }
   ],
   "source": [
    "intel_value.head(10)"
   ]
  },
  {
   "cell_type": "code",
   "execution_count": 100,
   "id": "e0b69fa9",
   "metadata": {},
   "outputs": [
    {
     "name": "stdout",
     "output_type": "stream",
     "text": [
      "-680.515101140428\n"
     ]
    }
   ],
   "source": [
    "signal_val = signal(intel_value)\n",
    "print(signal_val)"
   ]
  },
  {
   "cell_type": "markdown",
   "id": "e3471585",
   "metadata": {},
   "source": [
    "## Collecting data to plot"
   ]
  },
  {
   "cell_type": "code",
   "execution_count": 116,
   "id": "0d2a82d1",
   "metadata": {},
   "outputs": [
    {
     "name": "stdout",
     "output_type": "stream",
     "text": [
      "-675.7015412196611\n"
     ]
    }
   ],
   "source": [
    "print(macd(intel_value))"
   ]
  },
  {
   "cell_type": "code",
   "execution_count": 114,
   "id": "355d7382",
   "metadata": {},
   "outputs": [],
   "source": [
    "values = intel_value\n",
    "x1 = np.arange(0,SIZE_OF_CHART)\n",
    "y1 = np.zeros(SIZE_OF_CHART)\n",
    "for i in range(SIZE_OF_CHART):\n",
    "    y1[i] = macd(values)\n",
    "    values = values.iloc[1:]"
   ]
  },
  {
   "cell_type": "code",
   "execution_count": 103,
   "id": "0cbf76ce",
   "metadata": {},
   "outputs": [],
   "source": [
    "values = intel_value\n",
    "x2 = np.arange(0,SIZE_OF_CHART)\n",
    "y2 = np.zeros(SIZE_OF_CHART)\n",
    "for i in range(SIZE_OF_CHART):\n",
    "    y2[i] = signal(values)\n",
    "    values = values.iloc[1:]"
   ]
  },
  {
   "cell_type": "markdown",
   "id": "74eb8761",
   "metadata": {},
   "source": [
    "## Create a plot"
   ]
  },
  {
   "cell_type": "code",
   "execution_count": 115,
   "id": "cffcb519",
   "metadata": {},
   "outputs": [
    {
     "data": {
      "image/png": "[encoded data removed]",
      "text/plain": [
       "<Figure size 640x480 with 1 Axes>"
      ]
     },
     "metadata": {},
     "output_type": "display_data"
    }
   ],
   "source": [
    "plt.plot(x1,y1, 'b', label=\"macd\")\n",
    "plt.plot(x2,y2, 'r', label=\"signal\")\n",
    "plt.legend()\n",
    "plt.show()"
   ]
  },
  {
   "cell_type": "code",
   "execution_count": null,
   "id": "0e708a83",
   "metadata": {},
   "outputs": [],
   "source": []
  }
 ],
 "metadata": {
  "kernelspec": {
   "display_name": "Python 3 (ipykernel)",
   "language": "python",
   "name": "python3"
  },
  "language_info": {
   "codemirror_mode": {
    "name": "ipython",
    "version": 3
   },
   "file_extension": ".py",
   "mimetype": "text/x-python",
   "name": "python",
   "nbconvert_exporter": "python",
   "pygments_lexer": "ipython3",
   "version": "3.9.13"
  }
 },
 "nbformat": 4,
 "nbformat_minor": 5
}
